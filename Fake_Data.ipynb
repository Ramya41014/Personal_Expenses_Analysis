{
 "cells": [
  {
   "cell_type": "markdown",
   "id": "08f976cf-0962-4629-bd3b-3e6260e1793d",
   "metadata": {},
   "source": [
    "Generating Fake Data For Analyzing Personal Expenses."
   ]
  },
  {
   "cell_type": "code",
   "execution_count": 2,
   "id": "f09e1062-156d-4ea7-82e8-fb7f7eb68d4c",
   "metadata": {},
   "outputs": [],
   "source": [
    "from faker import Faker\n",
    "import pandas as pd\n",
    "import random\n",
    "from datetime import datetime, timedelta"
   ]
  },
  {
   "cell_type": "code",
   "execution_count": 3,
   "id": "2acc9577-f904-4df0-8c62-e5c95450180a",
   "metadata": {},
   "outputs": [],
   "source": [
    "fake = Faker()"
   ]
  },
  {
   "cell_type": "code",
   "execution_count": 4,
   "id": "78ae3ecb-74ed-4afd-96e6-ae051eef3456",
   "metadata": {},
   "outputs": [],
   "source": [
    "category_descriptions = {\n",
    "    'Food': [\n",
    "        \"Dinner at a restaurant\", \"Lunch with friends\", \n",
    "        \"Snacks for cravings\", \"Takeout from a local diner\", \n",
    "        \"Coffee and pastries at a café\"\n",
    "    ],\n",
    "    'Transportation': [\n",
    "        \"Gas for the car\", \"Uber ride to the airport\", \n",
    "        \"Public transport monthly pass\", \"Taxi fare to a meeting\", \n",
    "        \"Parking fees\"\n",
    "    ],\n",
    "    'Bills': [\n",
    "        \"Electricity bill payment\", \"Water bill payment\", \n",
    "        \"Internet service charge\", \"Mobile phone bill\", \n",
    "        \"Insurance premium payment\"\n",
    "    ],\n",
    "    'Groceries': [\n",
    "        \"Weekly grocery shopping\", \"Buying fresh produce\", \n",
    "        \"Snacks and drinks for the week\", \"Household supplies\", \n",
    "        \"Buying meat and dairy products\"\n",
    "    ],\n",
    "    'Entertainment': [\n",
    "        \"Movie tickets for the weekend\", \"Concert tickets\", \n",
    "        \"Streaming service subscription\", \"Video game purchase\", \n",
    "        \"Dining out with friends\"\n",
    "    ],\n",
    "    'Travel': [\n",
    "        \"Flight tickets to a destination\", \"Hotel booking for vacation\", \n",
    "        \"Car rental for the trip\", \"Travel insurance\", \n",
    "        \"Sightseeing tour tickets\"\n",
    "    ],\n",
    "    'Subscriptions': [\n",
    "        \"Monthly magazine subscription\", \"Online course fee\", \n",
    "        \"Gym membership\", \"Software subscription\", \n",
    "        \"Streaming service subscription\"\n",
    "    ],\n",
    "    'Personal': [\n",
    "        \"Clothing purchase\", \"Personal care products\", \n",
    "         \"Books and stationery\", \n",
    "        \"Hobby supplies\"\n",
    "    ],\n",
    "    'Investment': [\n",
    "        \"Stock purchase\", \"Bond investment\", \n",
    "        \"Real estate investment\", \"Mutual fund contribution\", \n",
    "        \"Retirement account contribution\", \"Cryptocurrency purchase\", \n",
    "        \"Investment in startup\", \"Dividend reinvestment\"\n",
    "    ],\n",
    "    'Gifts': [\n",
    "        \"Birthday gift for a friend\", \"Anniversary gift\", \n",
    "        \"Holiday gift\", \"Gift for a colleague\", \n",
    "        \"Charity donation\"\n",
    "    ]\n",
    "}"
   ]
  },
  {
   "cell_type": "code",
   "execution_count": 5,
   "id": "4947fb05-36d3-4830-b150-103601e8f569",
   "metadata": {},
   "outputs": [],
   "source": [
    "\n",
    "def generate_expenses_for_month(month, num_records):\n",
    "    expenses = []\n",
    "    payment_modes = ['Cash', 'UPI', 'Debit Card', 'Credit Card', 'Net Banking']\n",
    "    # Define the start and end dates for each month in 2024\n",
    "    year = 2024  \n",
    "    start_date = datetime(year, month, 1)\n",
    "    if month == 12:\n",
    "        end_date = datetime(year + 1, 1, 1)  # End of December is the start of January next year\n",
    "    else:\n",
    "        end_date = datetime(year, month + 1, 1)  # End of the month is the start of the next month\n",
    "\n",
    "    for i in range(num_records):\n",
    "       \n",
    "        Random_date = fake.date_between(start_date, end_date - timedelta(days=1))    # Generate a random date within the specified month\n",
    "        category = random.choice(list(category_descriptions.keys()))       # Randomly select a category\n",
    "        payment_mode = random.choice(payment_modes)                         # Randomly select a payemtent_modes\n",
    "        description = random.choice(category_descriptions[category])        # Randomly select a description from the chosen category\n",
    "        amount_paid = round(random.uniform(5, 1000), 2)\n",
    "        \n",
    "         # Determine cashback based on category\n",
    "        if category == 'Investment':\n",
    "            cashback = 0.0  # No cashback for investment\n",
    "        else:\n",
    "            cashback = round(random.uniform(0, amount_paid * 0.1), 2)  # Up to 10% cashback\n",
    "            \n",
    "        expenses.append([Random_date, category, payment_mode, description, amount_paid, cashback])\n",
    "    \n",
    "    return expenses"
   ]
  },
  {
   "cell_type": "code",
   "execution_count": 6,
   "id": "a1229e04-b109-4231-997c-f8f819e7cf7a",
   "metadata": {},
   "outputs": [
    {
     "name": "stdout",
     "output_type": "stream",
     "text": [
      "Expenses for month 1 saved to expenses_1.csv\n",
      "Expenses for month 2 saved to expenses_2.csv\n",
      "Expenses for month 3 saved to expenses_3.csv\n",
      "Expenses for month 4 saved to expenses_4.csv\n",
      "Expenses for month 5 saved to expenses_5.csv\n",
      "Expenses for month 6 saved to expenses_6.csv\n",
      "Expenses for month 7 saved to expenses_7.csv\n",
      "Expenses for month 8 saved to expenses_8.csv\n",
      "Expenses for month 9 saved to expenses_9.csv\n",
      "Expenses for month 10 saved to expenses_10.csv\n",
      "Expenses for month 11 saved to expenses_11.csv\n",
      "Expenses for month 12 saved to expenses_12.csv\n"
     ]
    }
   ],
   "source": [
    "# Function to save expenses to CSV\n",
    "def save_expenses_to_csv():\n",
    "    for month in range(1, 13):\n",
    "        expenses = generate_expenses_for_month(month, 100)  # Generate 100 records for each month\n",
    "        df = pd.DataFrame(expenses, columns=['Random_Date', 'Category', 'Payment_Mode', 'Description', 'Amount_Paid', 'Cashback'])\n",
    "        df.to_csv(f'expenses_{month}.csv', index=False)\n",
    "        print(f\"Expenses for month {month} saved to expenses_{month}.csv\")\n",
    "\n",
    "# Save the generated expenses to CSV files\n",
    "save_expenses_to_csv()"
   ]
  }
 ],
 "metadata": {
  "kernelspec": {
   "display_name": "Python 3 (ipykernel)",
   "language": "python",
   "name": "python3"
  },
  "language_info": {
   "codemirror_mode": {
    "name": "ipython",
    "version": 3
   },
   "file_extension": ".py",
   "mimetype": "text/x-python",
   "name": "python",
   "nbconvert_exporter": "python",
   "pygments_lexer": "ipython3",
   "version": "3.12.4"
  }
 },
 "nbformat": 4,
 "nbformat_minor": 5
}
