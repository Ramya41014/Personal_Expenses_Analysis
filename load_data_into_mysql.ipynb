{
 "cells": [
  {
   "cell_type": "code",
   "execution_count": 1,
   "id": "5acf4c91-dff3-43d2-a89d-0274a4d86243",
   "metadata": {},
   "outputs": [],
   "source": [
    "import mysql.connector\n",
    "import pandas as pd"
   ]
  },
  {
   "cell_type": "code",
   "execution_count": 2,
   "id": "cfd1ed51-2dfe-4ab0-bb1e-199dd7c201dc",
   "metadata": {},
   "outputs": [
    {
     "name": "stdout",
     "output_type": "stream",
     "text": [
      "Data from expenses_1 saved to MySQL database.\n",
      "Data from expenses_2 saved to MySQL database.\n",
      "Data from expenses_3 saved to MySQL database.\n",
      "Data from expenses_4 saved to MySQL database.\n",
      "Data from expenses_5 saved to MySQL database.\n",
      "Data from expenses_6 saved to MySQL database.\n",
      "Data from expenses_7 saved to MySQL database.\n",
      "Data from expenses_8 saved to MySQL database.\n",
      "Data from expenses_9 saved to MySQL database.\n",
      "Data from expenses_10 saved to MySQL database.\n",
      "Data from expenses_11 saved to MySQL database.\n",
      "Data from expenses_12 saved to MySQL database.\n",
      "Data from all_expenses saved to MySQL database.\n"
     ]
    }
   ],
   "source": [
    "def save_csv_to_mysql(month, is_combined=False):\n",
    "    # MySQL credentials\n",
    "    mydb = mysql.connector.connect(\n",
    "        host='127.0.0.1',\n",
    "        port='3306',\n",
    "        user='root',\n",
    "        password='Ramya@123',\n",
    "        database='tracking_expenses',\n",
    "        auth_plugin='mysql_native_password'\n",
    "    )\n",
    "    \n",
    "    cursor = mydb.cursor()\n",
    "    \n",
    "    # Create table for the month or combined data\n",
    "    if is_combined:\n",
    "        table_name = 'all_expenses'\n",
    "    else:\n",
    "        table_name = f'expenses_{month}'\n",
    "    \n",
    "    cursor.execute(f'''\n",
    "        CREATE TABLE IF NOT EXISTS {table_name} (\n",
    "            id INT AUTO_INCREMENT PRIMARY KEY,\n",
    "            Date DATE,\n",
    "            Category VARCHAR(50),\n",
    "            Payment_Mode VARCHAR(50),\n",
    "            Description VARCHAR(255),\n",
    "            Amount_Paid DECIMAL(10, 2),\n",
    "            Cashback DECIMAL(10, 2)\n",
    "        )\n",
    "    ''')\n",
    "    \n",
    "    # Load data from CSV\n",
    "    if is_combined:\n",
    "        df = pd.read_csv('all_expenses.csv')\n",
    "    else:\n",
    "        df = pd.read_csv(f'expenses_{month}.csv')\n",
    "    \n",
    "    # Insert data into MySQL\n",
    "    insert_query = f'''\n",
    "        INSERT INTO {table_name} (Date, Category, Payment_Mode, Description, Amount_Paid, Cashback)\n",
    "        VALUES (%s, %s, %s, %s, %s, %s)\n",
    "    '''\n",
    "    cursor.executemany(insert_query, df.values.tolist())\n",
    "    mydb.commit()\n",
    "    \n",
    "    cursor.close()\n",
    "    mydb.close()\n",
    "    print(f\"Data from {table_name} saved to MySQL database.\")\n",
    "\n",
    "# Load each month's CSV data into MySQL\n",
    "for month in range(1, 13):\n",
    "    save_csv_to_mysql(month)\n",
    "\n",
    "# Load all_expenses.csv into MySQL\n",
    "save_csv_to_mysql(month=None, is_combined=True)"
   ]
  },
  {
   "cell_type": "code",
   "execution_count": null,
   "id": "7c5d838d-15cc-420b-9e38-32b7f78fac1b",
   "metadata": {},
   "outputs": [],
   "source": []
  }
 ],
 "metadata": {
  "kernelspec": {
   "display_name": "Python 3 (ipykernel)",
   "language": "python",
   "name": "python3"
  },
  "language_info": {
   "codemirror_mode": {
    "name": "ipython",
    "version": 3
   },
   "file_extension": ".py",
   "mimetype": "text/x-python",
   "name": "python",
   "nbconvert_exporter": "python",
   "pygments_lexer": "ipython3",
   "version": "3.12.4"
  }
 },
 "nbformat": 4,
 "nbformat_minor": 5
}
